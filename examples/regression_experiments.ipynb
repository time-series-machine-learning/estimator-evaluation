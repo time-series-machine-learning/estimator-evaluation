{
 "cells": [
  {
   "cell_type": "markdown",
   "source": [
    "# Time Series Regression Experiments\n",
    "\n",
    "Placeholder\n",
    "\n",
    "<img src=\"./images/TSR.png\" width=\"600\" alt=\"time series regression\"> [<i>&#x200B;</i>](./images/TSR.png)"
   ],
   "metadata": {
    "collapsed": false
   }
  },
  {
   "cell_type": "code",
   "execution_count": null,
   "metadata": {
    "collapsed": true
   },
   "outputs": [],
   "source": [
    "import numpy as np\n",
    "from aeon.benchmarking import get_estimator_results, plot_critical_difference\n",
    "from aeon.datasets import load_regression\n",
    "from aeon.regression import DummyRegressor\n",
    "from sklearn.metrics import mean_squared_error"
   ]
  },
  {
   "cell_type": "code",
   "execution_count": null,
   "outputs": [],
   "source": [
    "reg = DummyRegressor()\n",
    "datasets = [\"CardanoSentiment\", \"Covid3Month\", \"FloodModeling1\"]\n",
    "\n",
    "# find RMSE for each of our datasets on our estimator\n",
    "results = {}\n",
    "for d in datasets:\n",
    "    train_X, train_y = load_regression(d, split=\"train\")\n",
    "    test_X, test_y = load_regression(d, split=\"test\")\n",
    "    reg = reg.fit(train_X, train_y)\n",
    "    y_pred = reg.predict(test_X)\n",
    "    results[d] = mean_squared_error(test_y, y_pred, squared=False)\n",
    "\n",
    "results"
   ],
   "metadata": {
    "collapsed": false
   }
  },
  {
   "cell_type": "code",
   "execution_count": null,
   "outputs": [],
   "source": [
    "benchmarks = [\"InceptionE\", \"FreshPRINCE\", \"DrCIF\"]\n",
    "res = get_estimator_results(\n",
    "    datasets=datasets, estimators=benchmarks, task=\"regression\", type=\"rmse\"\n",
    ")\n",
    "res"
   ],
   "metadata": {
    "collapsed": false
   }
  },
  {
   "cell_type": "code",
   "execution_count": null,
   "outputs": [],
   "source": [
    "res[\"Dummy\"] = results\n",
    "benchmarks = [\"Dummy\"] + benchmarks\n",
    "\n",
    "table = []\n",
    "for d in datasets:\n",
    "    row = []\n",
    "    for b in benchmarks:\n",
    "        row.append(res[b][d])\n",
    "    table.append(row)\n",
    "table = np.array(table)\n",
    "table"
   ],
   "metadata": {
    "collapsed": false
   }
  },
  {
   "cell_type": "code",
   "execution_count": null,
   "outputs": [],
   "source": [
    "plt = plot_critical_difference(table, benchmarks)\n",
    "plt.show()"
   ],
   "metadata": {
    "collapsed": false
   }
  }
 ],
 "metadata": {
  "kernelspec": {
   "display_name": "Python 3",
   "language": "python",
   "name": "python3"
  },
  "language_info": {
   "codemirror_mode": {
    "name": "ipython",
    "version": 2
   },
   "file_extension": ".py",
   "mimetype": "text/x-python",
   "name": "python",
   "nbconvert_exporter": "python",
   "pygments_lexer": "ipython2",
   "version": "2.7.6"
  }
 },
 "nbformat": 4,
 "nbformat_minor": 0
}
