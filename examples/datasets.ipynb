{
 "cells": [
  {
   "cell_type": "markdown",
   "source": [
    "# tsml-eval Data Format\n",
    "\n",
    "`tsml-eval` primarily uses `numpy` arrays as the datatype of choice when running experiments. The type of `numpy` array used however, will depend on the dataset characteristics (i.e. whether it is equal or unequal length) and the learning task.\n",
    "\n",
    "Classification, clustering and regression use collections of time series. Forecasting using single time series.\n",
    "\n",
    "<img src=\"./images/data.png\" width=\"300\" alt=\"tsml-eval datasets\"> [<i>&#x200B;</i>](./images/data.png)"
   ],
   "metadata": {
    "collapsed": false
   }
  },
  {
   "cell_type": "markdown",
   "source": [
    "## Time Series Collections\n",
    "\n",
    "There are two types of collection datatypes used in `tsml-eval`:\n",
    "- A 3D `numpy` array of shape `(n_samples, n_channels, n_timestamps)` for equal length time series.\n",
    "- A list of 2D `numpy` arrays of shape `(n_channels, n_timestamps)` for unequal length time series.\n",
    "\n",
    "These are both design to accommodate multivariate time series, where `n_channels` is the number of variables in the time series. For univariate time series, `n_channels` is 1.\n",
    "\n",
    "Below is an example for these formats."
   ],
   "metadata": {
    "collapsed": false
   }
  },
  {
   "cell_type": "code",
   "execution_count": 1,
   "metadata": {
    "collapsed": true,
    "ExecuteTime": {
     "end_time": "2023-11-23T13:35:14.006533100Z",
     "start_time": "2023-11-23T13:35:13.189993500Z"
    }
   },
   "outputs": [
    {
     "name": "stdout",
     "output_type": "stream",
     "text": [
      "Shape: (40, 1, 24)\n",
      "Type: <class 'numpy.ndarray'>\n",
      "[[[ 573.  375.  301.  212.   55.   34.   25.   33.  113.  143.  303.\n",
      "    615. 1226. 1281. 1221. 1081.  866. 1096. 1039.  975.  746.  581.\n",
      "    409.  182.]]\n",
      "\n",
      " [[ 394.  264.  140.  144.  104.   28.   28.   25.   70.  153.  401.\n",
      "    649. 1216. 1399. 1249. 1240. 1109. 1137. 1290. 1137.  791.  638.\n",
      "    597.  316.]]\n",
      "\n",
      " [[ 603.  348.  176.  177.   47.   30.   40.   42.  101.  180.  401.\n",
      "    777. 1344. 1573. 1408. 1243. 1141. 1178. 1256. 1114.  814.  635.\n",
      "    304.  168.]]\n",
      "\n",
      " [[ 428.  309.  199.  117.   82.   43.   24.   64.  152.  183.  408.\n",
      "    797. 1288. 1491. 1523. 1460. 1365. 1520. 1700. 1797. 1596. 1139.\n",
      "    910.  640.]]\n",
      "\n",
      " [[ 372.  310.  203.  133.   65.   39.   27.   36.  107.  139.  329.\n",
      "    651.  990. 1027. 1041.  971. 1104.  844. 1023. 1019.  862.  643.\n",
      "    591.  452.]]]\n"
     ]
    }
   ],
   "source": [
    "from tsml.datasets import load_minimal_chinatown\n",
    "\n",
    "X, y = load_minimal_chinatown()\n",
    "\n",
    "print(\"Shape:\", X.shape)\n",
    "print(\"Type:\", type(X))\n",
    "print(X[:5])"
   ]
  },
  {
   "cell_type": "markdown",
   "source": [
    "The labels for each time series are stored in a 1D `numpy` array."
   ],
   "metadata": {
    "collapsed": false
   }
  },
  {
   "cell_type": "code",
   "execution_count": 2,
   "outputs": [
    {
     "name": "stdout",
     "output_type": "stream",
     "text": [
      "Shape: (40,)\n",
      "Type: <class 'numpy.ndarray'>\n",
      "[1. 1. 1. 1. 1. 1. 1. 1. 1. 1. 2. 2. 2. 2. 2. 2. 2. 2. 2. 2. 1. 1. 1. 1.\n",
      " 1. 1. 1. 1. 1. 1. 2. 2. 2. 2. 2. 2. 2. 2. 2. 2.]\n"
     ]
    }
   ],
   "source": [
    "print(\"Shape:\", y.shape)\n",
    "print(\"Type:\", type(y))\n",
    "print(y)"
   ],
   "metadata": {
    "collapsed": false,
    "ExecuteTime": {
     "end_time": "2023-11-23T13:35:14.014022200Z",
     "start_time": "2023-11-23T13:35:14.006533100Z"
    }
   }
  },
  {
   "cell_type": "markdown",
   "source": [
    "`numpy` arrays do not support unequal length time series, so a list of 2D `numpy` arrays is used instead."
   ],
   "metadata": {
    "collapsed": false
   }
  },
  {
   "cell_type": "code",
   "execution_count": 3,
   "outputs": [
    {
     "name": "stdout",
     "output_type": "stream",
     "text": [
      "Size: 40\n",
      "Type: <class 'list'>\n",
      "Case 1 shape: (12, 20)\n",
      "Case 2 shape: (12, 26)\n",
      "Case 1 type: <class 'numpy.ndarray'>\n"
     ]
    }
   ],
   "source": [
    "from tsml.datasets import load_minimal_japanese_vowels\n",
    "\n",
    "X, _ = load_minimal_japanese_vowels()\n",
    "\n",
    "print(\"Size:\", len(X))\n",
    "print(\"Type:\", type(X))\n",
    "print(\"Case 1 shape:\", X[0].shape)\n",
    "print(\"Case 2 shape:\", X[1].shape)\n",
    "print(\"Case 1 type:\", type(X[0]))"
   ],
   "metadata": {
    "collapsed": false,
    "ExecuteTime": {
     "end_time": "2023-11-23T13:35:14.075887100Z",
     "start_time": "2023-11-23T13:35:14.014022200Z"
    }
   }
  },
  {
   "cell_type": "markdown",
   "source": [
    "Collection datatypes can be loaded from files in the `aeon` .ts format using the `tsml` loader below."
   ],
   "metadata": {
    "collapsed": false
   }
  },
  {
   "cell_type": "code",
   "execution_count": 4,
   "outputs": [
    {
     "data": {
      "text/plain": "(20, 1, 24)"
     },
     "execution_count": 4,
     "metadata": {},
     "output_type": "execute_result"
    }
   ],
   "source": [
    "from tsml.datasets import load_from_ts_file\n",
    "\n",
    "X, y = load_from_ts_file(\n",
    "    \"../tsml_eval/datasets/MinimalChinatown/MinimalChinatown_TRAIN.ts\"\n",
    ")\n",
    "X.shape"
   ],
   "metadata": {
    "collapsed": false,
    "ExecuteTime": {
     "end_time": "2023-11-23T13:35:14.075887100Z",
     "start_time": "2023-11-23T13:35:14.044942400Z"
    }
   }
  },
  {
   "cell_type": "markdown",
   "source": [
    "## Single Time Series\n",
    "\n",
    "Functionality for single series tasks in `tsml-eval` is currently limited. Using current functions, the best datatype to use is a 1D `numpy` array."
   ],
   "metadata": {
    "collapsed": false
   }
  },
  {
   "cell_type": "code",
   "execution_count": 5,
   "outputs": [
    {
     "name": "stdout",
     "output_type": "stream",
     "text": [
      "Shape: (24,)\n",
      "Type: <class 'numpy.ndarray'>\n",
      "[266.  145.9 183.1 119.3 180.3 168.5 231.8 224.5 192.8 122.9 336.5 185.9\n",
      " 194.3 149.5 210.1 273.3 191.4 287.  226.  303.6 289.9 421.6 264.5 342.3]\n"
     ]
    }
   ],
   "source": [
    "import pandas as pd\n",
    "\n",
    "X = pd.read_csv(\n",
    "    \"../tsml_eval/datasets/ShampooSales/ShampooSales_TRAIN.csv\",\n",
    "    index_col=0,\n",
    ").squeeze(\"columns\")\n",
    "X = X.astype(float).to_numpy()\n",
    "\n",
    "print(\"Shape:\", X.shape)\n",
    "print(\"Type:\", type(X))\n",
    "print(X)"
   ],
   "metadata": {
    "collapsed": false,
    "ExecuteTime": {
     "end_time": "2023-11-23T13:35:17.874531400Z",
     "start_time": "2023-11-23T13:35:14.069876600Z"
    }
   }
  }
 ],
 "metadata": {
  "kernelspec": {
   "display_name": "Python 3",
   "language": "python",
   "name": "python3"
  },
  "language_info": {
   "codemirror_mode": {
    "name": "ipython",
    "version": 2
   },
   "file_extension": ".py",
   "mimetype": "text/x-python",
   "name": "python",
   "nbconvert_exporter": "python",
   "pygments_lexer": "ipython2",
   "version": "2.7.6"
  }
 },
 "nbformat": 4,
 "nbformat_minor": 0
}
