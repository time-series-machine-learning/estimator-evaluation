{
 "cells": [
  {
   "cell_type": "markdown",
   "source": [
    "# Time Series Clustering Experiments\n",
    "\n",
    "Placeholder\n",
    "\n",
    "<img src=\"./images/TSCL.png\" width=\"600\" alt=\"time series clustering\"> [<i>&#x200B;</i>](./images/TSCL.png)"
   ],
   "metadata": {
    "collapsed": false
   }
  },
  {
   "cell_type": "code",
   "execution_count": null,
   "metadata": {
    "collapsed": true
   },
   "outputs": [],
   "source": [
    "import numpy as np\n",
    "import pandas as pd\n",
    "from aeon.benchmarking import get_estimator_results, plot_critical_difference\n",
    "from aeon.datasets import load_classification\n",
    "from tsml.dummy import DummyClusterer\n",
    "\n",
    "from tsml_eval.evaluation.metrics import clustering_accuracy_score"
   ]
  },
  {
   "cell_type": "code",
   "execution_count": null,
   "outputs": [],
   "source": [
    "clf = DummyClusterer()\n",
    "datasets = [\"ArrowHead\", \"GunPoint\", \"ItalyPowerDemand\", \"Chinatown\", \"BeetleFly\"]\n",
    "\n",
    "# find accuracy for each of our datasets on our estimator\n",
    "results = {}\n",
    "for d in datasets:\n",
    "    train_X, train_y = load_classification(d, split=\"train\")\n",
    "    test_X, test_y = load_classification(d, split=\"test\")\n",
    "    clf = clf.fit(train_X, train_y)\n",
    "    y_pred = clf.predict(test_X)\n",
    "    results[d] = clustering_accuracy_score(test_y, y_pred)\n",
    "\n",
    "results"
   ],
   "metadata": {
    "collapsed": false
   }
  },
  {
   "cell_type": "code",
   "execution_count": null,
   "outputs": [],
   "source": [
    "benchmarks = [\"KMeans-DTW\", \"KMedoids-DTW\", \"KMedoids-MSM\"]\n",
    "res = get_estimator_results(\n",
    "    datasets=datasets,\n",
    "    estimators=benchmarks,\n",
    "    task=\"clustering\",\n",
    "    type=\"clustering_accuracy\",\n",
    ")\n",
    "res"
   ],
   "metadata": {
    "collapsed": false
   }
  },
  {
   "cell_type": "code",
   "execution_count": null,
   "outputs": [],
   "source": [
    "res[\"Dummy\"] = results\n",
    "table = pd.DataFrame(res)\n",
    "table"
   ],
   "metadata": {
    "collapsed": false
   }
  },
  {
   "cell_type": "code",
   "execution_count": null,
   "outputs": [],
   "source": [
    "plt = plot_critical_difference(np.array(table), list(table.columns))\n",
    "plt.show()"
   ],
   "metadata": {
    "collapsed": false
   }
  }
 ],
 "metadata": {
  "kernelspec": {
   "display_name": "Python 3",
   "language": "python",
   "name": "python3"
  },
  "language_info": {
   "codemirror_mode": {
    "name": "ipython",
    "version": 2
   },
   "file_extension": ".py",
   "mimetype": "text/x-python",
   "name": "python",
   "nbconvert_exporter": "python",
   "pygments_lexer": "ipython2",
   "version": "2.7.6"
  }
 },
 "nbformat": 4,
 "nbformat_minor": 0
}
