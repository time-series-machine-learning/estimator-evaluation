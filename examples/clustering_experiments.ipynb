{
 "cells": [
  {
   "cell_type": "markdown",
   "source": [
    "# Time Series Clustering Experiments\n",
    "\n",
    "In this notebook we will show how to run a simple time series clustering experiment using the `tsml-eval` package. Time series clustering is the task of grouping time series into similar groups.\n",
    "\n",
    "<img src=\"./images/TSCL.png\" width=\"600\" alt=\"time series clustering\"> [<i>&#x200B;</i>](./images/TSCL.png)"
   ],
   "metadata": {
    "collapsed": false
   }
  },
  {
   "cell_type": "code",
   "execution_count": null,
   "metadata": {
    "collapsed": true
   },
   "source": [
    "import numpy as np\n",
    "import pandas as pd\n",
    "from aeon.benchmarking import get_estimator_results, plot_critical_difference\n",
    "from aeon.datasets import load_classification\n",
    "from sklearn import preprocessing\n",
    "from tsml.datasets import load_minimal_chinatown\n",
    "from tsml.dummy import DummyClusterer\n",
    "\n",
    "from tsml_eval.evaluation.metrics import clustering_accuracy_score\n",
    "from tsml_eval.evaluation.storage import load_clusterer_results\n",
    "from tsml_eval.experiments import (\n",
    "    experiments,\n",
    "    get_clusterer_by_name,\n",
    "    run_clustering_experiment,\n",
    ")"
   ],
   "outputs": []
  },
  {
   "cell_type": "code",
   "execution_count": 2,
   "outputs": [],
   "source": [
    "X, y = load_minimal_chinatown()"
   ],
   "metadata": {
    "collapsed": false,
    "ExecuteTime": {
     "end_time": "2023-12-21T15:55:24.263088Z",
     "start_time": "2023-12-21T15:55:24.258101Z"
    }
   }
  },
  {
   "cell_type": "code",
   "execution_count": 3,
   "outputs": [],
   "source": [
    "# set_clusterer can be used to find various clusterers by string, but\n",
    "# any aeon, tsml or sklearn clusterer can be used in the experiments function\n",
    "clusterer = get_clusterer_by_name(\"DummyClusterer\")\n",
    "\n",
    "# record memory usage every 0.1 seconds, just here for notebook speed\n",
    "# does not need to be changed for usage\n",
    "experiments.MEMRECORD_INTERVAL = 0.1\n",
    "\n",
    "run_clustering_experiment(\n",
    "    X,\n",
    "    y,\n",
    "    clusterer,\n",
    "    \"./generated_results/\",\n",
    "    dataset_name=\"Chinatown\",\n",
    "    resample_id=0,\n",
    ")"
   ],
   "metadata": {
    "collapsed": false,
    "ExecuteTime": {
     "end_time": "2023-12-21T15:55:25.331611300Z",
     "start_time": "2023-12-21T15:55:24.263088Z"
    }
   }
  },
  {
   "cell_type": "markdown",
   "source": [
    "A function is also available to load the dataset as well as run an experiment, see `load_and_run_clustering_experiment` in `tsml_eval.experiments`.\n",
    "\n",
    "Both experiment functions will output a results file in the `{results_dir}/{clusterer_name}/Predictions/{dataset_name}/` directory. These files can be loaded individually, or used as a collection in the `evaluation` module. See the [evaluation](evaluation.ipynb) notebook for more details."
   ],
   "metadata": {
    "collapsed": false
   }
  },
  {
   "cell_type": "code",
   "execution_count": 4,
   "outputs": [
    {
     "name": "stdout",
     "output_type": "stream",
     "text": [
      "[0. 0. 0. 0. 0. 0. 0. 0. 0. 0. 0. 0. 0. 0. 0. 0. 0. 0. 0. 0. 0. 0. 0. 0.\n",
      " 0. 0. 0. 0. 0. 0. 0. 0. 0. 0. 0. 0. 0. 0. 0. 0.]\n",
      "0.5\n",
      "0.48717948717948717\n",
      "0.0\n"
     ]
    }
   ],
   "source": [
    "clr = load_clusterer_results(\n",
    "    \"./generated_results/DummyClusterer/Predictions/Chinatown/trainResample0.csv\"\n",
    ")\n",
    "print(clr.predictions)\n",
    "print(clr.clustering_accuracy)\n",
    "print(clr.rand_index)\n",
    "print(clr.mutual_information)"
   ],
   "metadata": {
    "collapsed": false,
    "ExecuteTime": {
     "end_time": "2023-12-21T15:55:25.407953300Z",
     "start_time": "2023-12-21T15:55:25.331611300Z"
    }
   }
  },
  {
   "cell_type": "markdown",
   "source": [
    "A function is also available to load the dataset as well as run an experiment, see `load_and_run_clustering_experiment` in `tsml_eval.experiments`.\n",
    "\n",
    "A common use-case is wanting to compare a new algorithm against provided benchmark results. The tsml group stores their publication results and provides an `aeon` function to load them. An example of this is shown below for clustering."
   ],
   "metadata": {
    "collapsed": false
   }
  },
  {
   "cell_type": "code",
   "execution_count": 5,
   "outputs": [
    {
     "data": {
      "text/plain": "{'ArrowHead': 0.38388625592417064,\n 'GunPoint': 0.5,\n 'ItalyPowerDemand': 0.5009124087591241,\n 'Chinatown': 0.7134986225895317,\n 'BeetleFly': 0.5}"
     },
     "execution_count": 5,
     "metadata": {},
     "output_type": "execute_result"
    }
   ],
   "source": [
    "clu = DummyClusterer()\n",
    "datasets = [\"ArrowHead\", \"GunPoint\", \"ItalyPowerDemand\", \"Chinatown\", \"BeetleFly\"]\n",
    "\n",
    "# find accuracy for each of our datasets on our estimator\n",
    "results = {}\n",
    "for d in datasets:\n",
    "    X, y = load_classification(d)\n",
    "    y = preprocessing.LabelEncoder().fit_transform(y)\n",
    "    clu.fit(X)\n",
    "    y_pred = clu.predict(X)\n",
    "    results[d] = clustering_accuracy_score(y, y_pred)\n",
    "\n",
    "results"
   ],
   "metadata": {
    "collapsed": false,
    "ExecuteTime": {
     "end_time": "2023-12-21T15:55:25.466796400Z",
     "start_time": "2023-12-21T15:55:25.405959300Z"
    }
   }
  },
  {
   "cell_type": "code",
   "execution_count": 6,
   "outputs": [
    {
     "data": {
      "text/plain": "{'kmeans-dtw': {'ArrowHead': 0.5257142857142857,\n  'GunPoint': 0.5133333333333333,\n  'ItalyPowerDemand': 0.5014577259475219,\n  'Chinatown': 0.6880466472303207,\n  'BeetleFly': 0.5},\n 'kmedoids-dtw': {'ArrowHead': 0.52,\n  'GunPoint': 0.5133333333333333,\n  'ItalyPowerDemand': 0.5335276967930029,\n  'Chinatown': 0.6822157434402333,\n  'BeetleFly': 0.6},\n 'kmedoids-msm': {'ArrowHead': 0.5314285714285715,\n  'GunPoint': 0.52,\n  'ItalyPowerDemand': 0.5189504373177842,\n  'Chinatown': 0.6909620991253644,\n  'BeetleFly': 0.85}}"
     },
     "execution_count": 6,
     "metadata": {},
     "output_type": "execute_result"
    }
   ],
   "source": [
    "benchmarks = [\"kmeans-dtw\", \"kmedoids-dtw\", \"kmedoids-msm\"]\n",
    "res = get_estimator_results(\n",
    "    datasets=datasets,\n",
    "    estimators=benchmarks,\n",
    "    task=\"clustering\",\n",
    "    type=\"accuracy\",\n",
    ")\n",
    "res"
   ],
   "metadata": {
    "collapsed": false,
    "ExecuteTime": {
     "end_time": "2023-12-21T15:55:25.630591900Z",
     "start_time": "2023-12-21T15:55:25.465799200Z"
    }
   }
  },
  {
   "cell_type": "code",
   "execution_count": 7,
   "outputs": [
    {
     "data": {
      "text/plain": "                  kmeans-dtw  kmedoids-dtw  kmedoids-msm     Dummy\nArrowHead           0.525714      0.520000      0.531429  0.383886\nGunPoint            0.513333      0.513333      0.520000  0.500000\nItalyPowerDemand    0.501458      0.533528      0.518950  0.500912\nChinatown           0.688047      0.682216      0.690962  0.713499\nBeetleFly           0.500000      0.600000      0.850000  0.500000",
      "text/html": "<div>\n<style scoped>\n    .dataframe tbody tr th:only-of-type {\n        vertical-align: middle;\n    }\n\n    .dataframe tbody tr th {\n        vertical-align: top;\n    }\n\n    .dataframe thead th {\n        text-align: right;\n    }\n</style>\n<table border=\"1\" class=\"dataframe\">\n  <thead>\n    <tr style=\"text-align: right;\">\n      <th></th>\n      <th>kmeans-dtw</th>\n      <th>kmedoids-dtw</th>\n      <th>kmedoids-msm</th>\n      <th>Dummy</th>\n    </tr>\n  </thead>\n  <tbody>\n    <tr>\n      <th>ArrowHead</th>\n      <td>0.525714</td>\n      <td>0.520000</td>\n      <td>0.531429</td>\n      <td>0.383886</td>\n    </tr>\n    <tr>\n      <th>GunPoint</th>\n      <td>0.513333</td>\n      <td>0.513333</td>\n      <td>0.520000</td>\n      <td>0.500000</td>\n    </tr>\n    <tr>\n      <th>ItalyPowerDemand</th>\n      <td>0.501458</td>\n      <td>0.533528</td>\n      <td>0.518950</td>\n      <td>0.500912</td>\n    </tr>\n    <tr>\n      <th>Chinatown</th>\n      <td>0.688047</td>\n      <td>0.682216</td>\n      <td>0.690962</td>\n      <td>0.713499</td>\n    </tr>\n    <tr>\n      <th>BeetleFly</th>\n      <td>0.500000</td>\n      <td>0.600000</td>\n      <td>0.850000</td>\n      <td>0.500000</td>\n    </tr>\n  </tbody>\n</table>\n</div>"
     },
     "execution_count": 7,
     "metadata": {},
     "output_type": "execute_result"
    }
   ],
   "source": [
    "res[\"Dummy\"] = results\n",
    "table = pd.DataFrame(res)\n",
    "table"
   ],
   "metadata": {
    "collapsed": false,
    "ExecuteTime": {
     "end_time": "2023-12-21T15:55:25.642560300Z",
     "start_time": "2023-12-21T15:55:25.629595400Z"
    }
   }
  },
  {
   "cell_type": "code",
   "execution_count": 8,
   "outputs": [
    {
     "data": {
      "text/plain": "<Figure size 600x230 with 1 Axes>",
      "image/png": "[encoded data removed]"
     },
     "metadata": {},
     "output_type": "display_data"
    }
   ],
   "source": [
    "plt = plot_critical_difference(np.array(table), list(table.columns))\n",
    "plt.show()"
   ],
   "metadata": {
    "collapsed": false,
    "ExecuteTime": {
     "end_time": "2023-12-21T15:55:25.738331700Z",
     "start_time": "2023-12-21T15:55:25.641563300Z"
    }
   }
  }
 ],
 "metadata": {
  "kernelspec": {
   "display_name": "Python 3",
   "language": "python",
   "name": "python3"
  },
  "language_info": {
   "codemirror_mode": {
    "name": "ipython",
    "version": 2
   },
   "file_extension": ".py",
   "mimetype": "text/x-python",
   "name": "python",
   "nbconvert_exporter": "python",
   "pygments_lexer": "ipython2",
   "version": "2.7.6"
  }
 },
 "nbformat": 4,
 "nbformat_minor": 0
}
