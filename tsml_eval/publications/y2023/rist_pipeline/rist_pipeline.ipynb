{
 "cells": [
  {
   "cell_type": "markdown",
   "source": [
    "# Extracting Features from Random Subseries: A Hybrid Pipeline for Time Series Classification and Extrinsic Regression\n",
    "\n",
    "This is the webpage and repo package to support the paper \"Extracting Features from Random Subseries: A Hybrid Pipeline for Time Series Classification and Extrinsic Regression\" submitted to the International Workshop on Advanced Analytics and Learning on Temporal Data (AALTD) 2023.\n",
    "\n",
    "Our results files are stored [here](https://github.com/time-series-machine-learning/tsml-eval/tree/main/tsml_eval/publications/y2023/rist_pipeline/results).\n",
    "\n",
    "## Datasets\n",
    "\n",
    "The 112 UCR archive datasets are available at [timeseriesclassification.com](http://www.timeseriesclassification.com/dataset.php).\n",
    "\n",
    "The 63 regression datasets are available at [the archive expansion webpage](./publications/2023/tser_archive_expansion/tser_archive_expansion.ipynb)."
   ],
   "metadata": {
    "collapsed": false
   }
  }
 ],
 "metadata": {
  "kernelspec": {
   "display_name": "Python 3",
   "language": "python",
   "name": "python3"
  },
  "language_info": {
   "codemirror_mode": {
    "name": "ipython",
    "version": 2
   },
   "file_extension": ".py",
   "mimetype": "text/x-python",
   "name": "python",
   "nbconvert_exporter": "python",
   "pygments_lexer": "ipython2",
   "version": "2.7.6"
  }
 },
 "nbformat": 4,
 "nbformat_minor": 0
}
