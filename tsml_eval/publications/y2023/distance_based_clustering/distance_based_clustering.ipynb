{
 "cells": [
  {
   "metadata": {},
   "cell_type": "markdown",
   "source": [
    "# A Review and Evaluation of Elastic Distance Functions for Time Series Clustering\n",
    "\n",
    "Webpage and repo package to support the paper \"A Review and Evaluation of Elastic Distance Functions for Time Series Clustering\" submitted to Springer Knowledge and Information Systems (KAIS).\n",
    "\n",
    "Additional notebooks:\n",
    "\n",
    "- [Notebook for creating alignment figures](./alignment_and_paths_figures.ipynb)\n",
    "- [Timing comparison for Python distance implementations](./package_distance_timing.ipynb)\n",
    "\n",
    "Our results files are stored [here](https://github.com/time-series-machine-learning/tsml-eval/tree/main/tsml_eval/publications/y2023/distance_based_clustering/results).\n",
    "\n",
    "## Datasets\n",
    "\n",
    "The 112 UCR archive datasets are available at [timeseriesclassification.com](http://www.timeseriesclassification.com/dataset.php).\n",
    "\n",
    "## Install\n",
    "\n",
    "To install the latest version of the package with up-to-date algorithms, run:\n",
    "\n",
    "    pip install tsml-eval\n",
    "\n",
    "To install the package at the time of publication, run:\n",
    "\n",
    "    pip install tsml-eval==0.1.1\n",
    "\n",
    "To install dependency versions used at the time of publication, use the publication requirements.txt:\n",
    "\n",
    "    pip install -r tsml_eval/publications/2023/distance_based_clustering/static_publication_reqs.txt\n",
    "\n",
    "## Usage\n",
    "\n",
    "### Command Line\n",
    "\n",
    "Run [run_distance_experiments.py](https://github.com/time-series-machine-learning/tsml-eval/blob/main/tsml_eval/publications/y2023/distance_based_clustering/run_distance_experiments.py) with the following arguments:\n",
    "\n",
    "1. Path to the data directory\n",
    "\n",
    "2. Path to the results directory\n",
    "\n",
    "3. The name of the model to run (see [set_distance_classifier.py](https://github.com/time-series-machine-learning/tsml-eval/blob/main/tsml_eval/publications/y2023/distance_based_clustering/set_distance_clusterer.py), i.e. KMeans-dtw, KMeans-msm, KMedoids-dtw)\n",
    "\n",
    "4. The name of the problem to run\n",
    "\n",
    "5. The resample number to run (0 is base train/test split)\n",
    "\n",
    "i.e. to run the ItalyPowerDemand problem using KMeans with the MSM distance on the base train/test split:\n",
    "\n",
    "    python tsml_eval/publications/2023/distance_based_clustering/run_distance_experiments.py data/ results/ KMeans-msm ItalyPowerDemand 0\n",
    "\n",
    "### Using Distance-based Clusterers\n",
    "\n",
    "Our clusterers and distances are available in the `aeon` Python package.\n",
    "\n",
    "The clusterers used in our experiments extend the `scikit-learn` interface and can also be used like their estimators:\n"
   ]
  },
  {
   "metadata": {
    "ExecuteTime": {
     "end_time": "2024-12-05T15:58:02.528458Z",
     "start_time": "2024-12-05T15:58:02.526123Z"
    }
   },
   "cell_type": "code",
   "source": [
    "import warnings\n",
    "\n",
    "warnings.filterwarnings(\"ignore\")\n",
    "\n",
    "from aeon.benchmarking.metrics.clustering import clustering_accuracy_score\n",
    "from aeon.clustering import TimeSeriesKMeans\n",
    "from tsml.datasets import load_minimal_chinatown\n",
    "\n",
    "from tsml_eval.publications.y2023.distance_based_clustering import (\n",
    "    _set_distance_clusterer,\n",
    ")"
   ],
   "outputs": [],
   "execution_count": 6
  },
  {
   "metadata": {},
   "cell_type": "markdown",
   "source": [
    "Data can be loaded using whichever method is most convenient, but should be formatted as either a 3D numpy array of shape (n_samples, n_channels, n_timesteps) or a list of length (n_samples) containing 2D numpy arrays of shape (n_channels, n_timesteps).\n",
    "\n",
    "A function is available for loading from .ts files."
   ]
  },
  {
   "metadata": {
    "ExecuteTime": {
     "end_time": "2024-12-05T15:58:02.535841Z",
     "start_time": "2024-12-05T15:58:02.531463Z"
    }
   },
   "cell_type": "code",
   "source": [
    "# load example classification dataset\n",
    "X_train, y_train = load_minimal_chinatown(\"TRAIN\")\n",
    "X_test, y_test = load_minimal_chinatown(\"TEST\")\n",
    "\n",
    "# data can be loaded from .ts files using the following function\n",
    "# from tsml.datasets import load_from_ts_file\n",
    "# X, y = load_from_ts_file(\"data/data.ts\")\n",
    "\n",
    "print(type(X_train), type(y_train))\n",
    "print(X_train.shape, y_train.shape)\n",
    "print(X_test.shape, y_test.shape)\n",
    "X_train[:5]"
   ],
   "outputs": [
    {
     "name": "stdout",
     "output_type": "stream",
     "text": [
      "<class 'numpy.ndarray'> <class 'numpy.ndarray'>\n",
      "(20, 1, 24) (20,)\n",
      "(20, 1, 24) (20,)\n"
     ]
    },
    {
     "data": {
      "text/plain": [
       "array([[[ 573.,  375.,  301.,  212.,   55.,   34.,   25.,   33.,  113.,\n",
       "          143.,  303.,  615., 1226., 1281., 1221., 1081.,  866., 1096.,\n",
       "         1039.,  975.,  746.,  581.,  409.,  182.]],\n",
       "\n",
       "       [[ 394.,  264.,  140.,  144.,  104.,   28.,   28.,   25.,   70.,\n",
       "          153.,  401.,  649., 1216., 1399., 1249., 1240., 1109., 1137.,\n",
       "         1290., 1137.,  791.,  638.,  597.,  316.]],\n",
       "\n",
       "       [[ 603.,  348.,  176.,  177.,   47.,   30.,   40.,   42.,  101.,\n",
       "          180.,  401.,  777., 1344., 1573., 1408., 1243., 1141., 1178.,\n",
       "         1256., 1114.,  814.,  635.,  304.,  168.]],\n",
       "\n",
       "       [[ 428.,  309.,  199.,  117.,   82.,   43.,   24.,   64.,  152.,\n",
       "          183.,  408.,  797., 1288., 1491., 1523., 1460., 1365., 1520.,\n",
       "         1700., 1797., 1596., 1139.,  910.,  640.]],\n",
       "\n",
       "       [[ 372.,  310.,  203.,  133.,   65.,   39.,   27.,   36.,  107.,\n",
       "          139.,  329.,  651.,  990., 1027., 1041.,  971., 1104.,  844.,\n",
       "         1023., 1019.,  862.,  643.,  591.,  452.]]])"
      ]
     },
     "execution_count": 7,
     "metadata": {},
     "output_type": "execute_result"
    }
   ],
   "execution_count": 7
  },
  {
   "metadata": {},
   "cell_type": "markdown",
   "source": "Clusterers can be built using the `fit` method and predictions can be made using `predict`."
  },
  {
   "metadata": {
    "ExecuteTime": {
     "end_time": "2024-12-05T15:58:02.638056Z",
     "start_time": "2024-12-05T15:58:02.542953Z"
    }
   },
   "cell_type": "code",
   "source": [
    "# build a TSF classifier and make predictions\n",
    "km = TimeSeriesKMeans(distance=\"dtw\", n_clusters=2, random_state=0)\n",
    "km.fit(X_train)\n",
    "km.predict(X_test)"
   ],
   "outputs": [
    {
     "data": {
      "text/plain": [
       "array([0, 0, 1, 0, 1, 1, 0, 0, 1, 0, 1, 1, 0, 1, 1, 0, 1, 1, 1, 1],\n",
       "      dtype=int64)"
      ]
     },
     "execution_count": 8,
     "metadata": {},
     "output_type": "execute_result"
    }
   ],
   "execution_count": 8
  },
  {
   "metadata": {},
   "cell_type": "markdown",
   "source": "The `labels_` attribute can be used to obtain the initial cluster labels for each sample instead of using `predict` on the initial data."
  },
  {
   "metadata": {
    "ExecuteTime": {
     "end_time": "2024-12-05T15:58:02.648734Z",
     "start_time": "2024-12-05T15:58:02.645606Z"
    }
   },
   "cell_type": "code",
   "source": "km.labels_",
   "outputs": [
    {
     "data": {
      "text/plain": [
       "array([1, 1, 1, 0, 1, 1, 0, 0, 0, 0, 1, 1, 1, 1, 1, 1, 1, 1, 1, 1],\n",
       "      dtype=int64)"
      ]
     },
     "execution_count": 9,
     "metadata": {},
     "output_type": "execute_result"
    }
   ],
   "execution_count": 9
  },
  {
   "metadata": {},
   "cell_type": "markdown",
   "source": "Here we run some of the clusterers from the publication and find the clustering accuracy for them on our example dataset."
  },
  {
   "metadata": {
    "ExecuteTime": {
     "end_time": "2024-12-05T15:58:02.937159Z",
     "start_time": "2024-12-05T15:58:02.728226Z"
    }
   },
   "cell_type": "code",
   "source": [
    "clusterers = [\n",
    "    \"KMeans-dtw\",\n",
    "    \"KMeans-msm\",\n",
    "    \"KMedoids-dtw\",\n",
    "]\n",
    "\n",
    "cl_acc_train = []\n",
    "cl_acc_test = []\n",
    "for clusterer_name in clusterers:\n",
    "    # Select a clusterer by name, see set_distance_clusterer.py for options\n",
    "    clusterer = _set_distance_clusterer(clusterer_name, random_state=0)\n",
    "\n",
    "    # fit and predict\n",
    "    clusterer.fit(X_train)\n",
    "    test_cl = clusterer.predict(X_test)\n",
    "\n",
    "    cl_acc_train.append(clustering_accuracy_score(y_train, clusterer.labels_))\n",
    "    cl_acc_test.append(clustering_accuracy_score(y_test, test_cl))\n",
    "\n",
    "print(cl_acc_train)\n",
    "print(cl_acc_test)"
   ],
   "outputs": [
    {
     "name": "stdout",
     "output_type": "stream",
     "text": [
      "[0.3, 0.4, 0.35]\n",
      "[0.55, 0.6, 0.55]\n"
     ]
    }
   ],
   "execution_count": 10
  }
 ],
 "metadata": {
  "kernelspec": {
   "display_name": "Python 3",
   "language": "python",
   "name": "python3"
  },
  "language_info": {
   "codemirror_mode": {
    "name": "ipython",
    "version": 2
   },
   "file_extension": ".py",
   "mimetype": "text/x-python",
   "name": "python",
   "nbconvert_exporter": "python",
   "pygments_lexer": "ipython2",
   "version": "2.7.6"
  }
 },
 "nbformat": 4,
 "nbformat_minor": 0
}
