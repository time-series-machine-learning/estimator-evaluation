{
 "cells": [
  {
   "cell_type": "markdown",
   "source": [
    "# A Review and Evaluation of Elastic Distance Functions for Time Series Clustering\n",
    "\n",
    "Webpage and repo package to support the paper \"A Review and Evaluation of Elastic Distance Functions for Time Series Clustering\" submitted to Springer Knowledge and Information Systems (KAIS).\n",
    "\n",
    "Additional notebooks:\n",
    "- [Notebook for creating alignment figures](./alignment_and_paths_figures.ipynb)\n",
    "- [Timing comparison for Python distance implementations](./package_distance_timing.ipynb)\n",
    "\n",
    "Our results files are stored [here](https://github.com/time-series-machine-learning/tsml-eval/tree/main/tsml_eval/publications/y2023/distance_based_clustering/results).\n",
    "\n",
    "## Datasets\n",
    "\n",
    "The 112 UCR archive datasets are available at [timeseriesclassification.com](http://www.timeseriesclassification.com/dataset.php).\n",
    "\n",
    "## Install\n",
    "\n",
    "To install the latest version of the package with up-to-date algorithms, run:\n",
    "\n",
    "    pip install tsml-eval\n",
    "\n",
    "To install the package at the time of publication, run:\n",
    "\n",
    "    pip install tsml-eval==0.1.1\n",
    "\n",
    "To install dependency versions used at the time of publication, use the publication requirements.txt:\n",
    "\n",
    "    pip install -r tsml_eval/publications/2023/distance_based_clustering/requirements.txt\n",
    "\n",
    "## Usage\n",
    "\n",
    "### Command Line\n",
    "\n",
    "todo\n",
    "\n",
    "### Using distance-based clusterers\n",
    "\n",
    "todo\n"
   ],
   "metadata": {
    "collapsed": false
   }
  },
  {
   "cell_type": "code",
   "execution_count": null,
   "outputs": [],
   "source": [
    "from aeon.benchmarking.experiments import run_clustering_experiment\n",
    "from aeon.clustering.k_means import TimeSeriesKMeans\n",
    "from aeon.datasets import load_acsf1\n",
    "\n",
    "X_train, y_train = load_acsf1(split=\"train\")\n",
    "X_test, y_test = load_acsf1(split=\"test\")\n",
    "\n",
    "k_means_clusterer = TimeSeriesKMeans(\n",
    "    n_clusters=10,  # Set to 10 as num classes is 10\n",
    "    metric=\"euclidean\",\n",
    ")\n",
    "\n",
    "run_clustering_experiment(\n",
    "    X_train,\n",
    "    k_means_clusterer,\n",
    "    results_path=\"./example-notebook-results\",\n",
    "    trainY=y_train,\n",
    "    testX=X_test,\n",
    "    testY=y_test,\n",
    "    cls_name=\"kmeans\",\n",
    "    dataset_name=\"acsf1\",\n",
    "    resample_id=0,\n",
    "    overwrite=False,\n",
    ")"
   ],
   "metadata": {
    "collapsed": false
   }
  },
  {
   "cell_type": "markdown",
   "source": [],
   "metadata": {
    "collapsed": false
   }
  }
 ],
 "metadata": {
  "kernelspec": {
   "display_name": "Python 3",
   "language": "python",
   "name": "python3"
  },
  "language_info": {
   "codemirror_mode": {
    "name": "ipython",
    "version": 2
   },
   "file_extension": ".py",
   "mimetype": "text/x-python",
   "name": "python",
   "nbconvert_exporter": "python",
   "pygments_lexer": "ipython2",
   "version": "2.7.6"
  }
 },
 "nbformat": 4,
 "nbformat_minor": 0
}
