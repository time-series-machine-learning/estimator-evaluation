{
 "cells": [
  {
   "cell_type": "markdown",
   "source": [
    "# A Review and Evaluation of Elastic Distance Functions for Time Series Clustering\n",
    "\n",
    "Webpage and repo package to support the paper \"A Review and Evaluation of Elastic Distance Functions for Time Series Clustering\" submitted to Springer Knowledge and Information Systems (KAIS).\n",
    "\n",
    "Additional notebooks:\n",
    "- [Timing comparison for Python distance implementations](./package_distance_timing.ipynb)\n",
    "\n",
    "Our results files are stored [here](https://github.com/time-series-machine-learning/tsml-eval/tree/main/tsml_eval/publications/y2023/distance_based_clustering/results).\n",
    "\n",
    "## Datasets\n",
    "\n",
    "The 112 UCR archive datasets are available at [timeseriesclassification.com](http://www.timeseriesclassification.com/dataset.php)."
   ],
   "metadata": {
    "collapsed": false
   }
  }
 ],
 "metadata": {
  "kernelspec": {
   "display_name": "Python 3",
   "language": "python",
   "name": "python3"
  },
  "language_info": {
   "codemirror_mode": {
    "name": "ipython",
    "version": 2
   },
   "file_extension": ".py",
   "mimetype": "text/x-python",
   "name": "python",
   "nbconvert_exporter": "python",
   "pygments_lexer": "ipython2",
   "version": "2.7.6"
  }
 },
 "nbformat": 4,
 "nbformat_minor": 0
}
