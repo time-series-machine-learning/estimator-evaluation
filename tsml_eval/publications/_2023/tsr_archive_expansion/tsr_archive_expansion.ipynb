{
 "cells": [
  {
   "cell_type": "markdown",
   "source": [
    "# Regression 2023\n",
    "\n",
    "This is a temporary anonymised repo to support the paper \"Unsupervised Feature Based Algorithms for Time Series Extrinsic Regression\" submitted to blind review for KDD 2023.\n",
    "\n",
    "## Datasets\n",
    "\n",
    "https://mega.nz/folder/0RpXVS7S#_vghTUbO7ZmJLssNQA7k4w <- monash problems (19)\n",
    "\n",
    "https://mega.nz/folder/xRo2zKKL#FmADwhcEmCuhN6eEk-b-xA <- new problems (44)\n",
    "\n",
    "## Install\n",
    "\n",
    "pip install -r requirements.txt\n",
    "\n",
    "## Usage\n",
    "\n",
    "Run run_experiments.py with the following arguments:\n",
    "\n",
    "1. path to the data directory\n",
    "\n",
    "2. path to the results directory\n",
    "\n",
    "3. the name of the model to run (see set_regressor.py, i.e. LR, DrCIF, CNN)\n",
    "\n",
    "4. the name of the problem to run\n",
    "\n",
    "5. the resample number to run (0 is base train/test split)\n",
    "\n",
    "i.e. to run Covid3Month using linear regression on the base train/test split:\n",
    "\n",
    "    run_experiments.py data/ results/new/ LR Covid3Month 0\n"
   ],
   "metadata": {
    "collapsed": false
   }
  },
  {
   "cell_type": "code",
   "execution_count": null,
   "outputs": [],
   "source": [
    "print(\"todo!\")"
   ],
   "metadata": {
    "collapsed": false
   }
  }
 ],
 "metadata": {
  "kernelspec": {
   "display_name": "Python 3",
   "language": "python",
   "name": "python3"
  },
  "language_info": {
   "codemirror_mode": {
    "name": "ipython",
    "version": 2
   },
   "file_extension": ".py",
   "mimetype": "text/x-python",
   "name": "python",
   "nbconvert_exporter": "python",
   "pygments_lexer": "ipython2",
   "version": "2.7.6"
  }
 },
 "nbformat": 4,
 "nbformat_minor": 0
}
