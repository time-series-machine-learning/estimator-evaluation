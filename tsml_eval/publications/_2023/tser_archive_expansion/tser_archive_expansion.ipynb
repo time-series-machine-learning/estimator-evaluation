{
 "cells": [
  {
   "attachments": {},
   "cell_type": "markdown",
   "metadata": {
    "collapsed": false
   },
   "source": [
    "# Regression 2023\n",
    "\n",
    "This is the repo to support the paper \"Unsupervised Feature Based Algorithms for Time Series Extrinsic Regression\" submitted to IEEE Transactions on Knowledge and Data Engineering (TKDE).\n",
    "\n",
    "## Datasets\n",
    "\n",
    "Datasets will be uploaded to the timeseriesclassification.com website as soon as possible. For now, we provide the following links:\n",
    "\n",
    "https://mega.nz/folder/0RpXVS7S#_vghTUbO7ZmJLssNQA7k4w <- monash problems (19)\n",
    "\n",
    "https://mega.nz/folder/xRo2zKKL#FmADwhcEmCuhN6eEk-b-xA <- new problems (44)\n",
    "\n",
    "## Install\n",
    "\n",
    "pip install -r requirements.txt\n",
    "\n",
    "## Usage\n",
    "\n",
    "Run run_experiments.py with the following arguments:\n",
    "\n",
    "1. path to the data directory\n",
    "\n",
    "2. path to the results directory\n",
    "\n",
    "3. the name of the model to run (see set_regressor.py, i.e. LR, DrCIF, CNN)\n",
    "\n",
    "4. the name of the problem to run\n",
    "\n",
    "5. the resample number to run (0 is base train/test split)\n",
    "\n",
    "i.e. to run Covid3Month using linear regression on the base train/test split:\n",
    "\n",
    "    run_experiments.py data/ results/new/ LR Covid3Month 0\n"
   ]
  }
 ],
 "metadata": {
  "kernelspec": {
   "display_name": "Python 3",
   "language": "python",
   "name": "python3"
  },
  "language_info": {
   "codemirror_mode": {
    "name": "ipython",
    "version": 2
   },
   "file_extension": ".py",
   "mimetype": "text/x-python",
   "name": "python",
   "nbconvert_exporter": "python",
   "pygments_lexer": "ipython2",
   "version": "2.7.6"
  }
 },
 "nbformat": 4,
 "nbformat_minor": 0
}
