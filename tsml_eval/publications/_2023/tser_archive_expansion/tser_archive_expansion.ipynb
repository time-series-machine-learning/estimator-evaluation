{
 "cells": [
  {
   "attachments": {},
   "cell_type": "markdown",
   "metadata": {
    "collapsed": false
   },
   "source": [
    "# Regression 2023\n",
    "\n",
    "This is the repo to support the paper \"Unsupervised Feature Based Algorithms for Time Series Extrinsic Regression\" submitted to IEEE Transactions on Knowledge and Data Engineering (TKDE).\n",
    "\n",
    "## Datasets\n",
    "\n",
    "Datasets will be uploaded to the timeseriesclassification.com website as soon as possible. For now, we provide the following links:\n",
    "\n",
    "https://mega.nz/folder/0RpXVS7S#_vghTUbO7ZmJLssNQA7k4w <- monash problems (19)\n",
    "\n",
    "https://mega.nz/folder/xRo2zKKL#FmADwhcEmCuhN6eEk-b-xA <- new problems (44)\n",
    "\n",
    "## Install\n",
    "\n",
    "pip install -r requirements.txt\n",
    "\n",
    "## Usage\n",
    "\n",
    "Run run_experiments.py with the following arguments:\n",
    "\n",
    "1. path to the data directory\n",
    "\n",
    "2. path to the results directory\n",
    "\n",
    "3. the name of the model to run (see set_regressor.py, i.e. LR, DrCIF, CNN)\n",
    "\n",
    "4. the name of the problem to run\n",
    "\n",
    "5. the resample number to run (0 is base train/test split)\n",
    "\n",
    "i.e. to run Covid3Month using linear regression on the base train/test split:\n",
    "\n",
    "    run_experiments.py data/ results/new/ LR Covid3Month 0\n"
   ]
  },
  {
   "cell_type": "markdown",
   "source": [],
   "metadata": {
    "collapsed": false
   }
  },
  {
   "cell_type": "code",
   "execution_count": null,
   "outputs": [],
   "source": [
    "from sklearn.metrics import mean_squared_error\n",
    "from tsml.datasets import load_minimal_gas_prices\n",
    "\n",
    "from tsml_eval.estimators import SklearnToTsmlRegressor\n",
    "from tsml_eval.publications._2023 import tser_archive_expansion\n",
    "from tsml_eval.utils.validation import is_sklearn_regressor\n",
    "\n",
    "regressors_5A2 = [\n",
    "    \"1NN-DTW\",\n",
    "    \"1NN-ED\",\n",
    "    \"5NN-DTW\",\n",
    "    \"5NN-ED\",\n",
    "    \"FPCR\",\n",
    "    \"FPCR-Bs\",\n",
    "    \"Grid-SVR\",\n",
    "    \"RandF\",\n",
    "    \"ROCKET\",\n",
    "    \"XGBoost\",\n",
    "]\n",
    "\n",
    "X_train, y_train = load_minimal_gas_prices(\"TRAIN\")\n",
    "X_test, y_test = load_minimal_gas_prices(\"TEST\")\n",
    "\n",
    "print(type(X_train))"
   ],
   "metadata": {
    "collapsed": false
   }
  },
  {
   "cell_type": "code",
   "execution_count": null,
   "outputs": [],
   "source": [
    "print(X_train.shape)"
   ],
   "metadata": {
    "collapsed": false
   }
  },
  {
   "cell_type": "markdown",
   "source": [
    "2"
   ],
   "metadata": {
    "collapsed": false
   }
  },
  {
   "cell_type": "code",
   "execution_count": null,
   "outputs": [],
   "source": [
    "rmse = []\n",
    "for regressor_name in regressors_5A2:\n",
    "    regressor = tser_archive_expansion._set_expansion_regressor(\n",
    "        regressor_name, random_state=0\n",
    "    )\n",
    "\n",
    "    if is_sklearn_regressor(regressor):\n",
    "        regressor = SklearnToTsmlRegressor(\n",
    "            regressor=regressor, concatenate_channels=True, random_state=0\n",
    "        )\n",
    "\n",
    "    regressor.fit(X_train, y_train)\n",
    "    y_pred = regressor.predict(X_test)\n",
    "    rmse.append(mean_squared_error(y_test, y_pred, squared=False))\n",
    "\n",
    "print(rmse)"
   ],
   "metadata": {
    "collapsed": false
   }
  },
  {
   "cell_type": "markdown",
   "source": [],
   "metadata": {
    "collapsed": false
   }
  }
 ],
 "metadata": {
  "kernelspec": {
   "display_name": "Python 3",
   "language": "python",
   "name": "python3"
  },
  "language_info": {
   "codemirror_mode": {
    "name": "ipython",
    "version": 2
   },
   "file_extension": ".py",
   "mimetype": "text/x-python",
   "name": "python",
   "nbconvert_exporter": "python",
   "pygments_lexer": "ipython2",
   "version": "2.7.6"
  }
 },
 "nbformat": 4,
 "nbformat_minor": 0
}
