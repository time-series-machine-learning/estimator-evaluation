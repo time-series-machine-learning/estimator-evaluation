{
 "cells": [
  {
   "cell_type": "markdown",
   "source": [
    "# Clustering Experiments\n",
    "\n",
    "temp\n",
    "\n",
    "<img src=\"./images/TSCL.png\" width=\"600\" alt=\"time series clustering\"> [<i>&#x200B;</i>](./images/TSCL.png)"
   ],
   "metadata": {
    "collapsed": false
   }
  },
  {
   "cell_type": "code",
   "execution_count": null,
   "metadata": {
    "collapsed": true
   },
   "outputs": [],
   "source": [
    "print(\"temp\")"
   ]
  }
 ],
 "metadata": {
  "kernelspec": {
   "display_name": "Python 3",
   "language": "python",
   "name": "python3"
  },
  "language_info": {
   "codemirror_mode": {
    "name": "ipython",
    "version": 2
   },
   "file_extension": ".py",
   "mimetype": "text/x-python",
   "name": "python",
   "nbconvert_exporter": "python",
   "pygments_lexer": "ipython2",
   "version": "2.7.6"
  }
 },
 "nbformat": 4,
 "nbformat_minor": 0
}
